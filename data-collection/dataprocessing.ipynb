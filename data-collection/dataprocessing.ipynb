{
 "cells": [
  {
   "cell_type": "code",
   "execution_count": 1,
   "metadata": {},
   "outputs": [],
   "source": [
    "import pandas as pd"
   ]
  },
  {
   "cell_type": "code",
   "execution_count": 2,
   "metadata": {},
   "outputs": [],
   "source": [
    "data = pd.read_csv('/Users/zoyajmd/Desktop/githubs/Green-Email/data-collection/data.csv')"
   ]
  },
  {
   "cell_type": "code",
   "execution_count": 3,
   "metadata": {},
   "outputs": [
    {
     "data": {
      "text/html": [
       "<div>\n",
       "<style scoped>\n",
       "    .dataframe tbody tr th:only-of-type {\n",
       "        vertical-align: middle;\n",
       "    }\n",
       "\n",
       "    .dataframe tbody tr th {\n",
       "        vertical-align: top;\n",
       "    }\n",
       "\n",
       "    .dataframe thead th {\n",
       "        text-align: right;\n",
       "    }\n",
       "</style>\n",
       "<table border=\"1\" class=\"dataframe\">\n",
       "  <thead>\n",
       "    <tr style=\"text-align: right;\">\n",
       "      <th></th>\n",
       "      <th>labelIds</th>\n",
       "      <th>snippet</th>\n",
       "      <th>sizeEstimate</th>\n",
       "      <th>internalDate</th>\n",
       "      <th>subject</th>\n",
       "      <th>body</th>\n",
       "    </tr>\n",
       "  </thead>\n",
       "  <tbody>\n",
       "    <tr>\n",
       "      <th>0</th>\n",
       "      <td>UNREAD IMPORTANT CATEGORY_FORUMS TRASH</td>\n",
       "      <td>NaN</td>\n",
       "      <td>567443</td>\n",
       "      <td>2023-01-12 06:58:54.000</td>\n",
       "      <td>Congratulations Team VIT - DESH Department for...</td>\n",
       "      <td>[image: image.png]\\r\\n</td>\n",
       "    </tr>\n",
       "    <tr>\n",
       "      <th>1</th>\n",
       "      <td>UNREAD CATEGORY_UPDATES SPAM</td>\n",
       "      <td>A picture containing text Description automati...</td>\n",
       "      <td>6185800</td>\n",
       "      <td>2023-01-09 16:54:47.000</td>\n",
       "      <td>Top 10 Learners of December 2022 are..!</td>\n",
       "      <td>\\r\\n[A picture containing text  Description au...</td>\n",
       "    </tr>\n",
       "    <tr>\n",
       "      <th>2</th>\n",
       "      <td>IMPORTANT CATEGORY_FORUMS INBOX</td>\n",
       "      <td>All students who have applied for the NTU indi...</td>\n",
       "      <td>15820</td>\n",
       "      <td>2023-01-23 18:09:12.000</td>\n",
       "      <td>Re: NTU India Connect Summer Internship</td>\n",
       "      <td>All students who have applied for the NTU indi...</td>\n",
       "    </tr>\n",
       "    <tr>\n",
       "      <th>3</th>\n",
       "      <td>IMPORTANT CATEGORY_FORUMS INBOX</td>\n",
       "      <td>DO CHECK WEBSITE BEFORE SUBMITTING I am not aw...</td>\n",
       "      <td>27078</td>\n",
       "      <td>2022-09-21 13:26:34.000</td>\n",
       "      <td>Confernces</td>\n",
       "      <td>*DO CHECK WEBSITE BEFORE SUBMITTING*\\r\\n\\r\\n\\r...</td>\n",
       "    </tr>\n",
       "    <tr>\n",
       "      <th>4</th>\n",
       "      <td>UNREAD CATEGORY_UPDATES</td>\n",
       "      <td>Attention Fall 2023 applicants! Converge bring...</td>\n",
       "      <td>18551</td>\n",
       "      <td>2023-01-03 20:21:47.000</td>\n",
       "      <td>Interact with 50+ Universities from Top Study ...</td>\n",
       "      <td>NaN</td>\n",
       "    </tr>\n",
       "  </tbody>\n",
       "</table>\n",
       "</div>"
      ],
      "text/plain": [
       "                                 labelIds  \\\n",
       "0  UNREAD IMPORTANT CATEGORY_FORUMS TRASH   \n",
       "1            UNREAD CATEGORY_UPDATES SPAM   \n",
       "2         IMPORTANT CATEGORY_FORUMS INBOX   \n",
       "3         IMPORTANT CATEGORY_FORUMS INBOX   \n",
       "4                 UNREAD CATEGORY_UPDATES   \n",
       "\n",
       "                                             snippet  sizeEstimate  \\\n",
       "0                                                NaN        567443   \n",
       "1  A picture containing text Description automati...       6185800   \n",
       "2  All students who have applied for the NTU indi...         15820   \n",
       "3  DO CHECK WEBSITE BEFORE SUBMITTING I am not aw...         27078   \n",
       "4  Attention Fall 2023 applicants! Converge bring...         18551   \n",
       "\n",
       "              internalDate                                            subject  \\\n",
       "0  2023-01-12 06:58:54.000  Congratulations Team VIT - DESH Department for...   \n",
       "1  2023-01-09 16:54:47.000            Top 10 Learners of December 2022 are..!   \n",
       "2  2023-01-23 18:09:12.000            Re: NTU India Connect Summer Internship   \n",
       "3  2022-09-21 13:26:34.000                                         Confernces   \n",
       "4  2023-01-03 20:21:47.000  Interact with 50+ Universities from Top Study ...   \n",
       "\n",
       "                                                body  \n",
       "0                             [image: image.png]\\r\\n  \n",
       "1  \\r\\n[A picture containing text  Description au...  \n",
       "2  All students who have applied for the NTU indi...  \n",
       "3  *DO CHECK WEBSITE BEFORE SUBMITTING*\\r\\n\\r\\n\\r...  \n",
       "4                                                NaN  "
      ]
     },
     "execution_count": 3,
     "metadata": {},
     "output_type": "execute_result"
    }
   ],
   "source": [
    "data.head()"
   ]
  },
  {
   "cell_type": "code",
   "execution_count": 4,
   "metadata": {},
   "outputs": [],
   "source": [
    "label_values = {'CHAT': 2,\n",
    "                'TRASH': 8, \n",
    "                'SPAM': 7, \n",
    "                'CATEGORY_FORUMS': 4, \n",
    "                'CATEGORY_UPDATES':5, \n",
    "                'CATEGORY_PROMOTIONS':6, \n",
    "                'CATEGORY_SOCIAL':6, \n",
    "                'UNREAD': 4\n",
    "                }"
   ]
  },
  {
   "cell_type": "code",
   "execution_count": 10,
   "metadata": {},
   "outputs": [
    {
     "data": {
      "text/plain": [
       "array(['UNREAD IMPORTANT CATEGORY_FORUMS TRASH', nan, 567443,\n",
       "       '2023-01-12 06:58:54.000',\n",
       "       'Congratulations Team VIT - DESH Department for Receiving Best Paper Award',\n",
       "       '[image: image.png]\\r\\n'], dtype=object)"
      ]
     },
     "execution_count": 10,
     "metadata": {},
     "output_type": "execute_result"
    }
   ],
   "source": [
    "import json \n",
    "import numpy as np\n",
    "from datetime import datetime\n",
    "json_label = data.iloc[0]\n",
    "label = np.array(json_label)\n",
    "label\n",
    "# jsn = json.loads(json_label)\n",
    "# labels = jsn['labelIds'].split(' ')\n",
    "# label_score = sum([label_values[i] for i in labels if i in label_values.keys()])\n",
    "\n",
    "# label_size = jsn['sizeEstimate']\n",
    "# label_date = jsn['internalDate']\n",
    "# datetime.strptime(label_date, '%m/%d/%y %H:%M:%S')\n",
    "# # type(label_date.toDatetime())"
   ]
  },
  {
   "cell_type": "code",
   "execution_count": 14,
   "metadata": {},
   "outputs": [
    {
     "data": {
      "text/html": [
       "<div>\n",
       "<style scoped>\n",
       "    .dataframe tbody tr th:only-of-type {\n",
       "        vertical-align: middle;\n",
       "    }\n",
       "\n",
       "    .dataframe tbody tr th {\n",
       "        vertical-align: top;\n",
       "    }\n",
       "\n",
       "    .dataframe thead th {\n",
       "        text-align: right;\n",
       "    }\n",
       "</style>\n",
       "<table border=\"1\" class=\"dataframe\">\n",
       "  <thead>\n",
       "    <tr style=\"text-align: right;\">\n",
       "      <th></th>\n",
       "      <th>labelIds</th>\n",
       "      <th>snippet</th>\n",
       "      <th>sizeEstimate</th>\n",
       "      <th>internalDate</th>\n",
       "      <th>subject</th>\n",
       "      <th>body</th>\n",
       "    </tr>\n",
       "  </thead>\n",
       "  <tbody>\n",
       "    <tr>\n",
       "      <th>0</th>\n",
       "      <td>UNREAD IMPORTANT CATEGORY_FORUMS TRASH</td>\n",
       "      <td>NaN</td>\n",
       "      <td>567443</td>\n",
       "      <td>2023-01-12 06:58:54.000</td>\n",
       "      <td>Congratulations Team VIT - DESH Department for...</td>\n",
       "      <td>[image: image.png]\\r\\n</td>\n",
       "    </tr>\n",
       "    <tr>\n",
       "      <th>1</th>\n",
       "      <td>UNREAD CATEGORY_UPDATES SPAM</td>\n",
       "      <td>A picture containing text Description automati...</td>\n",
       "      <td>6185800</td>\n",
       "      <td>2023-01-09 16:54:47.000</td>\n",
       "      <td>Top 10 Learners of December 2022 are..!</td>\n",
       "      <td>\\r\\n[A picture containing text  Description au...</td>\n",
       "    </tr>\n",
       "    <tr>\n",
       "      <th>2</th>\n",
       "      <td>IMPORTANT CATEGORY_FORUMS INBOX</td>\n",
       "      <td>All students who have applied for the NTU indi...</td>\n",
       "      <td>15820</td>\n",
       "      <td>2023-01-23 18:09:12.000</td>\n",
       "      <td>Re: NTU India Connect Summer Internship</td>\n",
       "      <td>All students who have applied for the NTU indi...</td>\n",
       "    </tr>\n",
       "    <tr>\n",
       "      <th>3</th>\n",
       "      <td>IMPORTANT CATEGORY_FORUMS INBOX</td>\n",
       "      <td>DO CHECK WEBSITE BEFORE SUBMITTING I am not aw...</td>\n",
       "      <td>27078</td>\n",
       "      <td>2022-09-21 13:26:34.000</td>\n",
       "      <td>Confernces</td>\n",
       "      <td>*DO CHECK WEBSITE BEFORE SUBMITTING*\\r\\n\\r\\n\\r...</td>\n",
       "    </tr>\n",
       "    <tr>\n",
       "      <th>4</th>\n",
       "      <td>UNREAD CATEGORY_UPDATES</td>\n",
       "      <td>Attention Fall 2023 applicants! Converge bring...</td>\n",
       "      <td>18551</td>\n",
       "      <td>2023-01-03 20:21:47.000</td>\n",
       "      <td>Interact with 50+ Universities from Top Study ...</td>\n",
       "      <td>NaN</td>\n",
       "    </tr>\n",
       "  </tbody>\n",
       "</table>\n",
       "</div>"
      ],
      "text/plain": [
       "                                 labelIds  \\\n",
       "0  UNREAD IMPORTANT CATEGORY_FORUMS TRASH   \n",
       "1            UNREAD CATEGORY_UPDATES SPAM   \n",
       "2         IMPORTANT CATEGORY_FORUMS INBOX   \n",
       "3         IMPORTANT CATEGORY_FORUMS INBOX   \n",
       "4                 UNREAD CATEGORY_UPDATES   \n",
       "\n",
       "                                             snippet  sizeEstimate  \\\n",
       "0                                                NaN        567443   \n",
       "1  A picture containing text Description automati...       6185800   \n",
       "2  All students who have applied for the NTU indi...         15820   \n",
       "3  DO CHECK WEBSITE BEFORE SUBMITTING I am not aw...         27078   \n",
       "4  Attention Fall 2023 applicants! Converge bring...         18551   \n",
       "\n",
       "              internalDate                                            subject  \\\n",
       "0  2023-01-12 06:58:54.000  Congratulations Team VIT - DESH Department for...   \n",
       "1  2023-01-09 16:54:47.000            Top 10 Learners of December 2022 are..!   \n",
       "2  2023-01-23 18:09:12.000            Re: NTU India Connect Summer Internship   \n",
       "3  2022-09-21 13:26:34.000                                         Confernces   \n",
       "4  2023-01-03 20:21:47.000  Interact with 50+ Universities from Top Study ...   \n",
       "\n",
       "                                                body  \n",
       "0                             [image: image.png]\\r\\n  \n",
       "1  \\r\\n[A picture containing text  Description au...  \n",
       "2  All students who have applied for the NTU indi...  \n",
       "3  *DO CHECK WEBSITE BEFORE SUBMITTING*\\r\\n\\r\\n\\r...  \n",
       "4                                                NaN  "
      ]
     },
     "execution_count": 14,
     "metadata": {},
     "output_type": "execute_result"
    }
   ],
   "source": [
    "data.head()"
   ]
  },
  {
   "cell_type": "code",
   "execution_count": 9,
   "metadata": {},
   "outputs": [
    {
     "name": "stdout",
     "output_type": "stream",
     "text": [
      "0      16\n",
      "1      16\n",
      "2       4\n",
      "3       4\n",
      "4       9\n",
      "       ..\n",
      "477    16\n",
      "478     4\n",
      "479     5\n",
      "480     4\n",
      "481     8\n",
      "Name: labelIds, Length: 482, dtype: int64\n"
     ]
    }
   ],
   "source": [
    "labels = data['labelIds'].str.split(' ')  \n",
    "label_score = labels.apply(lambda x: sum([label_values[i] for i in x if i in label_values.keys()])) \n",
    "print(label_score)\n",
    "    "
   ]
  },
  {
   "cell_type": "code",
   "execution_count": 35,
   "metadata": {},
   "outputs": [],
   "source": [
    "import matplotlib.pyplot as plt"
   ]
  },
  {
   "cell_type": "code",
   "execution_count": 34,
   "metadata": {},
   "outputs": [
    {
     "data": {
      "image/png": "[encoded data removed]",
      "text/plain": [
       "<Figure size 640x480 with 1 Axes>"
      ]
     },
     "metadata": {},
     "output_type": "display_data"
    }
   ],
   "source": [
    "plt.hist(label_score, bins=10)\n",
    "plt.show()"
   ]
  },
  {
   "cell_type": "code",
   "execution_count": 40,
   "metadata": {},
   "outputs": [
    {
     "name": "stdout",
     "output_type": "stream",
     "text": [
      "\u001b[31mERROR: Could not find a version that satisfies the requirement tensorflow (from versions: none)\u001b[0m\u001b[31m\n",
      "\u001b[0m\u001b[31mERROR: No matching distribution found for tensorflow\u001b[0m\u001b[31m\n",
      "\u001b[0mNote: you may need to restart the kernel to use updated packages.\n"
     ]
    }
   ],
   "source": [
    "%pip install tensorflow"
   ]
  }
 ],
 "metadata": {
  "kernelspec": {
   "display_name": "Python 3",
   "language": "python",
   "name": "python3"
  },
  "language_info": {
   "codemirror_mode": {
    "name": "ipython",
    "version": 3
   },
   "file_extension": ".py",
   "mimetype": "text/x-python",
   "name": "python",
   "nbconvert_exporter": "python",
   "pygments_lexer": "ipython3",
   "version": "3.11.1"
  },
  "orig_nbformat": 4,
  "vscode": {
   "interpreter": {
    "hash": "aee8b7b246df8f9039afb4144a1f6fd8d2ca17a180786b69acc140d282b71a49"
   }
  }
 },
 "nbformat": 4,
 "nbformat_minor": 2
}
